{
  "nbformat": 4,
  "nbformat_minor": 0,
  "metadata": {
    "colab": {
      "name": "Untitled3.ipynb",
      "provenance": [],
      "authorship_tag": "ABX9TyMj4sAvIBMZdwt6kqQRdGLO",
      "include_colab_link": true
    },
    "kernelspec": {
      "name": "python3",
      "display_name": "Python 3"
    }
  },
  "cells": [
    {
      "cell_type": "markdown",
      "metadata": {
        "id": "view-in-github",
        "colab_type": "text"
      },
      "source": [
        "<a href=\"https://colab.research.google.com/github/zarivan/Espectrometro/blob/master/controlPeso_01.ipynb\" target=\"_parent\"><img src=\"https://colab.research.google.com/assets/colab-badge.svg\" alt=\"Open In Colab\"/></a>"
      ]
    },
    {
      "cell_type": "code",
      "metadata": {
        "id": "Btn79coYvrxY",
        "colab_type": "code",
        "colab": {}
      },
      "source": [
        "from tabulate import tabulate\n",
        "# https://python-para-impacientes.blogspot.com/2017/01/tablas-con-estilo-con-tabulate.html"
      ],
      "execution_count": 0,
      "outputs": []
    },
    {
      "cell_type": "code",
      "metadata": {
        "id": "phkx9IlKvpNF",
        "colab_type": "code",
        "colab": {
          "base_uri": "https://localhost:8080/",
          "height": 68
        },
        "outputId": "c1acb791-362b-4ca7-c762-c70b7678f4ea"
      },
      "source": [
        "\n",
        "print(\"Calcularemos valores con respecto a cuerpo, por favor ingrese los siguientes datos:\")\n",
        "\n",
        "print(\"sexo masculino (m) femenino (f): \",end=\"\")\n",
        "sexo = input()\n",
        "print(\"correcto\", sexo)\n",
        "\n",
        "if sexo == 'm' or sexo == 'f':\n",
        "    conSex = 1\n",
        "else: \n",
        "  conSex = 0\n",
        "\n",
        "while conSex == 0: \n",
        "    print(\"error de datos\")\n",
        "    print(\"sexo masculino (m) femenino (f): \", end=\" \")\n",
        "    sexo = input()\n",
        "    \n",
        "    if sexo == 'm' or sexo == 'f':\n",
        "      conSex = 1\n",
        "    else: \n",
        "      conSex = 0\n",
        "if sexo == 'm':\n",
        "  sexoD = 'masculino'\n",
        "elif sexo == 'f':\n",
        "  sexoD = 'femenino'\n"
      ],
      "execution_count": 74,
      "outputs": [
        {
          "output_type": "stream",
          "text": [
            "Calcularemos valores con respecto a cuerpo, por favor ingrese los siguientes datos:\n",
            "sexo masculino (m) femenino (f): m\n",
            "correcto m\n"
          ],
          "name": "stdout"
        }
      ]
    },
    {
      "cell_type": "code",
      "metadata": {
        "id": "OeJOHwuw7Dj6",
        "colab_type": "code",
        "colab": {
          "base_uri": "https://localhost:8080/",
          "height": 102
        },
        "outputId": "8ae60f3a-4c10-496c-c6cd-55fa9b30e0fa"
      },
      "source": [
        "edad = input(\"Edad: \")\n",
        "estatura = input(\"Estatura (cm): \")\n",
        "peso = input(\"Peso (kg): \")\n",
        "cintura = input(\"Cintura (cm): \")\n",
        "cuello = input(\"Cuello (cm):  \")"
      ],
      "execution_count": 75,
      "outputs": [
        {
          "output_type": "stream",
          "text": [
            "Edad: 28\n",
            "Estatura (cm): 163\n",
            "Peso (kg): 58\n",
            "Cintura (cm): 82\n",
            "Cuello (cm):  37\n"
          ],
          "name": "stdout"
        }
      ]
    },
    {
      "cell_type": "code",
      "metadata": {
        "id": "qFtRfd--1awA",
        "colab_type": "code",
        "colab": {}
      },
      "source": [
        "#print(\"Los datos son correctos\",{edad},peso,estatura,cintura,cuello)\n",
        "#print(f\"Los datos son correctos\",{edad},peso,estatura,cintura,cuello)\n",
        "medidas = [['Datos','valores'],\n",
        "          ['edad', edad],\n",
        "          ['sexo',sexoD],\n",
        "          ['estatura (cm)', estatura],\n",
        "          ['peso (kg)', peso],\n",
        "          ['cintura (cm)', cintura],\n",
        "          ['cuello (cm)',cuello]]"
      ],
      "execution_count": 0,
      "outputs": []
    },
    {
      "cell_type": "code",
      "metadata": {
        "id": "T7_JGO3s1kON",
        "colab_type": "code",
        "colab": {
          "base_uri": "https://localhost:8080/",
          "height": 238
        },
        "outputId": "bd8e8507-d468-498e-ec50-c6e568816223"
      },
      "source": [
        "print(tabulate(medidas,headers='firstrow',tablefmt='fancy_grid'))"
      ],
      "execution_count": 26,
      "outputs": [
        {
          "output_type": "stream",
          "text": [
            "╒═══════════════╤═══════════╕\n",
            "│ Datos         │   valores │\n",
            "╞═══════════════╪═══════════╡\n",
            "│ edad          │        28 │\n",
            "├───────────────┼───────────┤\n",
            "│ estatura (cm) │       163 │\n",
            "├───────────────┼───────────┤\n",
            "│ peso (kg)     │        62 │\n",
            "├───────────────┼───────────┤\n",
            "│ cintura (cm)  │        82 │\n",
            "├───────────────┼───────────┤\n",
            "│ cuello (cm)   │        37 │\n",
            "╘═══════════════╧═══════════╛\n"
          ],
          "name": "stdout"
        }
      ]
    },
    {
      "cell_type": "code",
      "metadata": {
        "id": "_hGT0Bkw9se5",
        "colab_type": "code",
        "colab": {
          "base_uri": "https://localhost:8080/",
          "height": 34
        },
        "outputId": "c49c8948-aba5-4fc8-bd6d-280e5fb8bfba"
      },
      "source": [
        "input(\"¿Son correctos los valores?(s/n): \" )\n",
        "if \n"
      ],
      "execution_count": 34,
      "outputs": [
        {
          "output_type": "execute_result",
          "data": {
            "text/plain": [
              "'m'"
            ]
          },
          "metadata": {
            "tags": []
          },
          "execution_count": 34
        }
      ]
    },
    {
      "cell_type": "code",
      "metadata": {
        "id": "9R9_ghN1-7LG",
        "colab_type": "code",
        "colab": {}
      },
      "source": [
        " #funciones \n",
        " def resta(a, b):\n",
        "    return a - b"
      ],
      "execution_count": 0,
      "outputs": []
    },
    {
      "cell_type": "code",
      "metadata": {
        "id": "2Lxb_hfbL6PP",
        "colab_type": "code",
        "colab": {
          "base_uri": "https://localhost:8080/",
          "height": 187
        },
        "outputId": "83659086-2cc8-496f-da55-2b68070a2d0f"
      },
      "source": [
        "n = 1\n",
        "while n <= 10:\n",
        "  print(n)\n",
        "  n += 1"
      ],
      "execution_count": 57,
      "outputs": [
        {
          "output_type": "stream",
          "text": [
            "1\n",
            "2\n",
            "3\n",
            "4\n",
            "5\n",
            "6\n",
            "7\n",
            "8\n",
            "9\n",
            "10\n"
          ],
          "name": "stdout"
        }
      ]
    },
    {
      "cell_type": "code",
      "metadata": {
        "id": "REV6LRw6MDoW",
        "colab_type": "code",
        "colab": {}
      },
      "source": [
        ""
      ],
      "execution_count": 0,
      "outputs": []
    }
  ]
}